{
  "nbformat": 4,
  "nbformat_minor": 0,
  "metadata": {
    "colab": {
      "provenance": []
    },
    "kernelspec": {
      "name": "python3",
      "display_name": "Python 3"
    },
    "language_info": {
      "name": "python"
    }
  },
  "cells": [
    {
      "cell_type": "markdown",
      "source": [
        "files & exceptional handling assignmen"
      ],
      "metadata": {
        "id": "p0U8PZWQ-nwf"
      }
    },
    {
      "cell_type": "markdown",
      "source": [
        "THEORY"
      ],
      "metadata": {
        "id": "P9Rq1qox-bc9"
      }
    },
    {
      "cell_type": "markdown",
      "source": [
        "1- What is the difference between interpreted and compiled languages?\n",
        "- Compiled: Translated to machine code before execution (e.g., C, C++).\n",
        "\n",
        "Interpreted: Executed line-by-line at runtime (e.g., Python, JavaScript)."
      ],
      "metadata": {
        "id": "XcmSs5mo3X30"
      }
    },
    {
      "cell_type": "markdown",
      "source": [
        "2- What is exception handling in Python?\n",
        "- It’s a way to handle runtime errors using try, except, else, and finally blocks to prevent the program from crashing.\n"
      ],
      "metadata": {
        "id": "t73f4-fi3dKC"
      }
    },
    {
      "cell_type": "markdown",
      "source": [
        "3- What is the purpose of the finally block in exception handling?\n",
        "- It defines code that always executes, regardless of whether an exception occurred."
      ],
      "metadata": {
        "id": "Ktg1chjo3hJN"
      }
    },
    {
      "cell_type": "markdown",
      "source": [
        "4- What is logging in Python?\n",
        "- A module used to record messages (info, errors, warnings) to help developers track program behavior."
      ],
      "metadata": {
        "id": "Jd0wmPIQ3n5O"
      }
    },
    {
      "cell_type": "markdown",
      "source": [
        "5- What is the significance of the __del__ method in Python?\n",
        "- A special method called when an object is about to be destroyed, useful for cleanup (like closing files or releasing resources)."
      ],
      "metadata": {
        "id": "Q17x2TRm3qva"
      }
    },
    {
      "cell_type": "markdown",
      "source": [
        "6- What is the difference between import and from ... import in Python?\n",
        "- import math: Access with math.sqrt().\n",
        "\n",
        "from math import sqrt: Access directly with sqrt()."
      ],
      "metadata": {
        "id": "8FPOAkth3uSS"
      }
    },
    {
      "cell_type": "markdown",
      "source": [
        "7-  How can you handle multiple exceptions in Python?\n",
        "- try:\n",
        "    # code\n",
        "except (ValueError, TypeError) as e:\n",
        "    print(e)\n"
      ],
      "metadata": {
        "id": "ZN7oFUw83ydY"
      }
    },
    {
      "cell_type": "markdown",
      "source": [
        "8- What is the purpose of the with statement when handling files in Python?\n",
        "- with open('file.txt', 'r') as f:\n",
        "    data = f.read()\n"
      ],
      "metadata": {
        "id": "tTfw8oVV32sq"
      }
    },
    {
      "cell_type": "markdown",
      "source": [
        "9- What is the difference between multithreading and multiprocessing?\n",
        "- Multithreading: Multiple threads in one process, shares memory.\n",
        "\n",
        "Multiprocessing: Runs on multiple processes, separate memory spaces."
      ],
      "metadata": {
        "id": "IY9kPi5h35Z6"
      }
    },
    {
      "cell_type": "markdown",
      "source": [
        "10- What are the advantages of using logging in a program?\n",
        "- Tracks errors without crashing the app\n",
        "\n",
        "Helps in debugging\n",
        "\n",
        "Records activity and performance"
      ],
      "metadata": {
        "id": "ekzzUZPP368S"
      }
    },
    {
      "cell_type": "markdown",
      "source": [
        "11- What is memory management in Python?\n",
        "- Automatic system that handles memory allocation and deallocation using reference counting and garbage collection."
      ],
      "metadata": {
        "id": "k2XokRpJ39y-"
      }
    },
    {
      "cell_type": "markdown",
      "source": [
        "12- What are the basic steps involved in exception handling in Python?\n",
        "- try: Run risky code\n",
        "\n",
        "except: Catch error\n",
        "\n",
        "else: Run if no exception\n",
        "\n",
        "finally: Always run cleanup code"
      ],
      "metadata": {
        "id": "yTwkDr5E4Aq-"
      }
    },
    {
      "cell_type": "markdown",
      "source": [
        "13-  Why is memory management important in Python?\n",
        "- Prevents memory leaks and optimizes program performance by ensuring unused objects are deleted."
      ],
      "metadata": {
        "id": "YRrhdlAn4DUj"
      }
    },
    {
      "cell_type": "markdown",
      "source": [
        "14- What is the role of try and except in exception handling?\n",
        "- try: Block of code to test for errors.\n",
        "\n",
        "except: Block to handle the error if it occurs."
      ],
      "metadata": {
        "id": "tpMlrpTJ4GaO"
      }
    },
    {
      "cell_type": "markdown",
      "source": [
        "15- How does Python's garbage collection system work?\n",
        "- It automatically deletes objects with zero references and uses a cyclic garbage collector for complex references."
      ],
      "metadata": {
        "id": "Mi9JaN0u4Jkf"
      }
    },
    {
      "cell_type": "markdown",
      "source": [
        "16- What is the purpose of the else block in exception handling?\n",
        "- Executed only if no exception occurs in the try block."
      ],
      "metadata": {
        "id": "IJ2Q7Kd44MJB"
      }
    },
    {
      "cell_type": "markdown",
      "source": [
        "17- What are the common logging levels in Python?\n",
        "- DEBUG\n",
        "\n",
        "INFO\n",
        "\n",
        "WARNING\n",
        "\n",
        "ERROR\n",
        "\n",
        "CRITICAL"
      ],
      "metadata": {
        "id": "9t6KUeab4Ok8"
      }
    },
    {
      "cell_type": "markdown",
      "source": [
        "18- What is the difference between os.fork() and multiprocessing in Python?\n",
        "- os.fork() is Unix-only and low-level.\n",
        "\n",
        "multiprocessing is cross-platform, more Pythonic and easier to manage."
      ],
      "metadata": {
        "id": "05NHWv584Rxt"
      }
    },
    {
      "cell_type": "markdown",
      "source": [
        "19-  What is the importance of closing a file in Python?\n",
        "- Frees system resources, prevents data loss and file corruption."
      ],
      "metadata": {
        "id": "mSEfxS8I4Upf"
      }
    },
    {
      "cell_type": "markdown",
      "source": [
        "20- What is the difference between file.read() and file.readline() in Python?\n",
        "- read(): Reads entire file.\n",
        "\n",
        "readline(): Reads one line at a time."
      ],
      "metadata": {
        "id": "7XRaNsac4XZJ"
      }
    },
    {
      "cell_type": "markdown",
      "source": [
        "21- What is the logging module in Python used for?\n",
        "- Used for debugging, error tracking, and recording the flow or events during code execution."
      ],
      "metadata": {
        "id": "JEbU_cwX4aE0"
      }
    },
    {
      "cell_type": "markdown",
      "source": [
        "22- What is the os module in Python used for in file handling?\n",
        "- Provides functions to interact with the operating system: file creation, deletion, path operations, directory listing, etc."
      ],
      "metadata": {
        "id": "2iPVJphd4eQ_"
      }
    },
    {
      "cell_type": "markdown",
      "source": [
        "23- What are the challenges associated with memory management in Python?\n",
        "- Handling circular references\n",
        "\n",
        "Managing memory in long-running programs\n",
        "\n",
        "Unexpected memory retention due to hidden references"
      ],
      "metadata": {
        "id": "EHs0h0HH4g58"
      }
    },
    {
      "cell_type": "markdown",
      "source": [
        "24- How do you raise an exception manually in Python?\n",
        "- raise ValueError(\"Invalid input\")\n"
      ],
      "metadata": {
        "id": "k4_BIuN34h95"
      }
    },
    {
      "cell_type": "markdown",
      "source": [
        "25- Why is it important to use multithreading in certain applications?\n",
        "- Useful for I/O-bound tasks like web servers, network operations, and GUI apps to keep them responsive."
      ],
      "metadata": {
        "id": "qyhsLvNc4lK7"
      }
    },
    {
      "cell_type": "markdown",
      "source": [
        "PRACTICAL QUESTIONS"
      ],
      "metadata": {
        "id": "JeSypQdz4u3p"
      }
    },
    {
      "cell_type": "markdown",
      "source": [
        "1- How can you open a file for writing in Python and write a string to it?"
      ],
      "metadata": {
        "id": "T6OkWgIC5C-3"
      }
    },
    {
      "cell_type": "code",
      "source": [
        "# This code creates (or overwrites) a file and writes a string to it\n",
        "file_path = \"output.txt\"\n",
        "\n",
        "with open(file_path, \"w\") as file:\n",
        "    file.write(\"Welcome to WiseUp Academy!\")\n",
        "\n",
        "print(\"File written successfully.\")\n",
        "\n"
      ],
      "metadata": {
        "colab": {
          "base_uri": "https://localhost:8080/"
        },
        "id": "FIWPVMZr5F2j",
        "outputId": "586e2c62-4d91-4db7-c06f-554f89e0f01c"
      },
      "execution_count": 4,
      "outputs": [
        {
          "output_type": "stream",
          "name": "stdout",
          "text": [
            "File written successfully.\n"
          ]
        }
      ]
    },
    {
      "cell_type": "markdown",
      "source": [
        "2- Write a Python program to read the contents of a file and print each line."
      ],
      "metadata": {
        "id": "FP28hYa76Zyh"
      }
    },
    {
      "cell_type": "code",
      "source": [
        "# File name to read\n",
        "file_path = \"output.txt\"  # Replace with your file name\n",
        "\n",
        "# Open the file in read mode and print each line\n",
        "with open(file_path, \"r\") as file:\n",
        "    for line in file:\n",
        "        print(line.strip())  # .strip() removes newline characters\n"
      ],
      "metadata": {
        "colab": {
          "base_uri": "https://localhost:8080/"
        },
        "id": "C47ct4aS6i2a",
        "outputId": "dabcf8fc-495d-41cd-8b51-73f1bb96180c"
      },
      "execution_count": 6,
      "outputs": [
        {
          "output_type": "stream",
          "name": "stdout",
          "text": [
            "Welcome to WiseUp Academy!\n"
          ]
        }
      ]
    },
    {
      "cell_type": "markdown",
      "source": [
        "3- How would you handle a case where the file doesn't exist while trying to open it for reading?"
      ],
      "metadata": {
        "id": "UNAgwBYU6jLo"
      }
    },
    {
      "cell_type": "code",
      "source": [
        "# Import os to check the current working directory (optional)\n",
        "import os\n",
        "\n",
        "# Set the file name (make sure this file exists or change the name to test FileNotFoundError)\n",
        "file_path = \"output.txt\"\n",
        "\n",
        "try:\n",
        "    with open(file_path, \"r\") as file:\n",
        "        for line in file:\n",
        "            print(line.strip())  # Print each line, removing newline characters\n",
        "except FileNotFoundError:\n",
        "    print(f\"Error: The file '{file_path}' does not exist.\")\n",
        "\n",
        "# Show the directory so you know where Python is looking for the file\n",
        "print(\"Looking in directory:\", os.getcwd())\n"
      ],
      "metadata": {
        "colab": {
          "base_uri": "https://localhost:8080/"
        },
        "id": "ZO4EXu916nCt",
        "outputId": "b2577c0c-efce-418e-be4e-38fac6099350"
      },
      "execution_count": 9,
      "outputs": [
        {
          "output_type": "stream",
          "name": "stdout",
          "text": [
            "Welcome to WiseUp Academy!\n",
            "Looking in directory: /content\n"
          ]
        }
      ]
    },
    {
      "cell_type": "markdown",
      "source": [
        "4- Write a Python script that reads from one file and writes its content to another file?"
      ],
      "metadata": {
        "id": "bqrUmZ2S6xF2"
      }
    },
    {
      "cell_type": "code",
      "source": [
        "# File to read from\n",
        "source_file = \"input.txt\"\n",
        "\n",
        "# File to write to\n",
        "destination_file = \"output.txt\"\n",
        "\n",
        "try:\n",
        "    # Open the source file in read mode and destination file in write mode\n",
        "    with open(source_file, \"r\") as src, open(destination_file, \"w\") as dest:\n",
        "        for line in src:\n",
        "            dest.write(line)\n",
        "    print(f\"Content copied successfully from '{source_file}' to '{destination_file}'.\")\n",
        "except FileNotFoundError:\n",
        "    print(f\"Error: Source file '{source_file}' not found.\")\n"
      ],
      "metadata": {
        "colab": {
          "base_uri": "https://localhost:8080/"
        },
        "id": "boHk2GJp6ywg",
        "outputId": "613a42bf-765e-487c-e295-693a8b1079d9"
      },
      "execution_count": 11,
      "outputs": [
        {
          "output_type": "stream",
          "name": "stdout",
          "text": [
            "Error: Source file 'input.txt' not found.\n"
          ]
        }
      ]
    },
    {
      "cell_type": "markdown",
      "source": [
        "5- How would you catch and handle division by zero error in Python?"
      ],
      "metadata": {
        "id": "n_ks4dKa7F4p"
      }
    },
    {
      "cell_type": "code",
      "source": [
        "try:\n",
        "    numerator = 10\n",
        "    denominator = 0  # This will cause a ZeroDivisionError\n",
        "    result = numerator / denominator\n",
        "    print(\"Result:\", result)\n",
        "except ZeroDivisionError:\n",
        "    print(\"Error: You cannot divide by zero.\")\n"
      ],
      "metadata": {
        "id": "Pec4hL7A7cg7"
      },
      "execution_count": null,
      "outputs": []
    },
    {
      "cell_type": "markdown",
      "source": [
        "6- Write a Python program that logs an error message to a log file when a division by zero exception occursF"
      ],
      "metadata": {
        "id": "iZyFnUCR7OjG"
      }
    },
    {
      "cell_type": "code",
      "source": [
        "import logging\n",
        "\n",
        "# Configure logging to write to a file\n",
        "logging.basicConfig(filename=\"error_log.txt\", level=logging.ERROR,\n",
        "                    format=\"%(asctime)s - %(levelname)s - %(message)s\")\n",
        "\n",
        "try:\n",
        "    numerator = 10\n",
        "    denominator = 0\n",
        "    result = numerator / denominator\n",
        "    print(\"Result:\", result)\n",
        "except ZeroDivisionError as e:\n",
        "    logging.error(\"Division by zero error occurred: %s\", e)\n",
        "    print(\"Error: Cannot divide by zero. Check 'error_log.txt' for details.\")\n"
      ],
      "metadata": {
        "id": "b00ssPKH7pJb"
      },
      "execution_count": null,
      "outputs": []
    },
    {
      "cell_type": "markdown",
      "source": [
        "7- How do you log information at different levels (INFO, ERROR, WARNING) in Python using the logging module?\n"
      ],
      "metadata": {
        "id": "_gzDi8NK7gEM"
      }
    },
    {
      "cell_type": "code",
      "source": [
        "import logging\n",
        "\n",
        "# Configure logging to a file\n",
        "logging.basicConfig(filename='app_log.txt',\n",
        "                    level=logging.DEBUG,  # Set the lowest level you want to capture\n",
        "                    format='%(asctime)s - %(levelname)s - %(message)s')\n",
        "\n",
        "# Logging at different levels\n",
        "logging.debug(\"This is a DEBUG message.\")      # For detailed diagnostic information\n",
        "logging.info(\"This is an INFO message.\")       # For general information\n",
        "logging.warning(\"This is a WARNING message.\")  # For something unexpected but not crashing\n",
        "logging.error(\"This is an ERROR message.\")     # For serious problems\n",
        "logging.critical(\"This is a CRITICAL message.\")# For very severe errors\n"
      ],
      "metadata": {
        "id": "T8COcSeS7tmY"
      },
      "execution_count": null,
      "outputs": []
    },
    {
      "cell_type": "markdown",
      "source": [
        "8- Write a program to handle a file opening error using exception handlingF"
      ],
      "metadata": {
        "id": "FtbeI3TV76fl"
      }
    },
    {
      "cell_type": "code",
      "source": [
        "file_path = \"somefile.txt\"  # Change to the file you want to open\n",
        "\n",
        "try:\n",
        "    with open(file_path, \"r\") as file:\n",
        "        content = file.read()\n",
        "        print(\"File content:\")\n",
        "        print(content)\n",
        "except FileNotFoundError:\n",
        "    print(f\"Error: The file '{file_path}' does not exist.\")\n",
        "except IOError:\n",
        "    print(f\"Error: Could not read the file '{file_path}'.\")\n"
      ],
      "metadata": {
        "id": "16QhR4gn77Mg"
      },
      "execution_count": null,
      "outputs": []
    },
    {
      "cell_type": "markdown",
      "source": [
        "9- How can you read a file line by line and store its content in a list in Python?\n"
      ],
      "metadata": {
        "id": "M5VYTVOq77iW"
      }
    },
    {
      "cell_type": "code",
      "source": [
        "file_path = \"example.txt\"  # Replace with your file name\n",
        "\n",
        "lines = []\n",
        "\n",
        "try:\n",
        "    with open(file_path, \"r\") as file:\n",
        "        lines = file.readlines()  # Reads all lines into a list\n",
        "    # Optionally, strip newline characters from each line\n",
        "    lines = [line.strip() for line in lines]\n",
        "    print(lines)\n",
        "except FileNotFoundError:\n",
        "    print(f\"Error: The file '{file_path}' was not found.\")\n"
      ],
      "metadata": {
        "id": "HmL0uL668QSc"
      },
      "execution_count": null,
      "outputs": []
    },
    {
      "cell_type": "markdown",
      "source": [
        "10- How can you append data to an existing file in Python?"
      ],
      "metadata": {
        "id": "NgvGP4XI8WPA"
      }
    },
    {
      "cell_type": "code",
      "source": [
        "file_path = \"example.txt\"\n",
        "\n",
        "with open(file_path, \"a\") as file:\n",
        "    file.write(\"This line will be added at the end of the file.\\n\")\n",
        "\n",
        "print(\"Data appended successfully.\")\n"
      ],
      "metadata": {
        "id": "A14aQGdO8pGp"
      },
      "execution_count": null,
      "outputs": []
    },
    {
      "cell_type": "markdown",
      "source": [
        "11- Write a Python program that uses a try-except block to handle an error when attempting to access a\n",
        "dictionary key that doesn't existF"
      ],
      "metadata": {
        "id": "UDZP4Vck8t2Z"
      }
    },
    {
      "cell_type": "code",
      "source": [
        "my_dict = {\"name\": \"Alice\", \"age\": 25}\n",
        "\n",
        "try:\n",
        "    # Attempt to access a key that may not exist\n",
        "    value = my_dict[\"address\"]\n",
        "    print(\"Address:\", value)\n",
        "except KeyError:\n",
        "    print(\"Error: The key 'address' does not exist in the dictionary.\")\n"
      ],
      "metadata": {
        "id": "fxlZdQNE8yyz"
      },
      "execution_count": null,
      "outputs": []
    },
    {
      "cell_type": "markdown",
      "source": [
        "12- Write a program that demonstrates using multiple except blocks to handle different types of exceptions?"
      ],
      "metadata": {
        "id": "ghzdPya68zEk"
      }
    },
    {
      "cell_type": "code",
      "source": [
        "try:\n",
        "    num1 = int(input(\"Enter numerator: \"))\n",
        "    num2 = int(input(\"Enter denominator: \"))\n",
        "    result = num1 / num2\n",
        "    print(\"Result:\", result)\n",
        "\n",
        "    my_list = [1, 2, 3]\n",
        "    print(\"Accessing index 5:\", my_list[5])  # Will raise IndexError\n",
        "\n",
        "except ZeroDivisionError:\n",
        "    print(\"Error: Cannot divide by zero.\")\n",
        "except ValueError:\n",
        "    print(\"Error: Invalid input! Please enter integers only.\")\n",
        "except IndexError:\n",
        "    print(\"Error: List index out of range.\")\n",
        "except Exception as e:\n",
        "    print(\"An unexpected error occurred:\", e)\n"
      ],
      "metadata": {
        "id": "GFeZ4YwM8zcc"
      },
      "execution_count": null,
      "outputs": []
    },
    {
      "cell_type": "markdown",
      "source": [],
      "metadata": {
        "id": "4Sq6719s8zqz"
      }
    },
    {
      "cell_type": "code",
      "source": [
        "13- How would you check if a file exists before attempting to read it in Python?"
      ],
      "metadata": {
        "id": "ykuhiEzB80FN"
      },
      "execution_count": null,
      "outputs": []
    },
    {
      "cell_type": "code",
      "source": [
        "import os\n",
        "\n",
        "file_path = \"example.txt\"\n",
        "\n",
        "if os.path.exists(file_path):\n",
        "    with open(file_path, \"r\") as file:\n",
        "        content = file.read()\n",
        "        print(content)\n",
        "else:\n",
        "    print(f\"The file '{file_path}' does not exist.\")\n"
      ],
      "metadata": {
        "id": "BMEBHvmB9I_r"
      },
      "execution_count": null,
      "outputs": []
    },
    {
      "cell_type": "markdown",
      "source": [
        "14-Write a program that uses the logging module to log both informational and error messages"
      ],
      "metadata": {
        "id": "ROfIsafI9GjO"
      }
    },
    {
      "cell_type": "code",
      "source": [
        "import logging\n",
        "\n",
        "# Configure logging\n",
        "logging.basicConfig(\n",
        "    filename='app.log',\n",
        "    level=logging.DEBUG,  # Capture all levels DEBUG and above\n",
        "    format='%(asctime)s - %(levelname)s - %(message)s'\n",
        ")\n",
        "\n",
        "# Log an informational message\n",
        "logging.info(\"This is an informational message.\")\n",
        "\n",
        "# Log an error message\n",
        "logging.error(\"This is an error message.\")\n"
      ],
      "metadata": {
        "id": "lP41EliD9Gy1"
      },
      "execution_count": null,
      "outputs": []
    },
    {
      "cell_type": "markdown",
      "source": [
        "15- Write a Python program that prints the content of a file and handles the case when the file is empty"
      ],
      "metadata": {
        "id": "ZirIlZpz9HJx"
      }
    },
    {
      "cell_type": "code",
      "source": [
        "file_path = \"example.txt\"\n",
        "\n",
        "try:\n",
        "    with open(file_path, \"r\") as file:\n",
        "        content = file.read()\n",
        "        if content:\n",
        "            print(\"File content:\")\n",
        "            print(content)\n",
        "        else:\n",
        "            print(\"The file is empty.\")\n",
        "except FileNotFoundError:\n",
        "    print(f\"Error: The file '{file_path}' does not exist.\")\n"
      ],
      "metadata": {
        "id": "XuLOj6G69HZU"
      },
      "execution_count": null,
      "outputs": []
    },
    {
      "cell_type": "markdown",
      "source": [
        "16- Demonstrate how to use memory profiling to check the memory usage of a small program"
      ],
      "metadata": {
        "id": "eB0h8RQH9UmV"
      }
    },
    {
      "cell_type": "code",
      "source": [
        "from memory_profiler import profile\n",
        "\n",
        "@profile\n",
        "def my_function():\n",
        "    a = [i for i in range(100000)]  # Create a large list\n",
        "    b = [i**2 for i in range(100000)]\n",
        "    return a, b\n",
        "\n",
        "if __name__ == \"__main__\":\n",
        "    my_function()\n"
      ],
      "metadata": {
        "id": "oy0Q9QzH9U-9"
      },
      "execution_count": null,
      "outputs": []
    },
    {
      "cell_type": "markdown",
      "source": [
        "17- Write a Python program to create and write a list of numbers to a file, one number per line?"
      ],
      "metadata": {
        "id": "tXgLo3ft9bE1"
      }
    },
    {
      "cell_type": "code",
      "source": [
        "numbers = [10, 20, 30, 40, 50]  # Your list of numbers\n",
        "file_path = \"numbers.txt\"\n",
        "\n",
        "with open(file_path, \"w\") as file:\n",
        "    for num in numbers:\n",
        "        file.write(str(num) + \"\\n\")\n",
        "\n",
        "print(f\"Numbers written to '{file_path}' successfully.\")\n"
      ],
      "metadata": {
        "id": "zaTCEV0L9bV5"
      },
      "execution_count": null,
      "outputs": []
    },
    {
      "cell_type": "markdown",
      "source": [
        "18- How would you implement a basic logging setup that logs to a file with rotation after 1MB?"
      ],
      "metadata": {
        "id": "_uyBy_hp9q3s"
      }
    },
    {
      "cell_type": "code",
      "source": [
        "import logging\n",
        "from logging.handlers import RotatingFileHandler\n",
        "\n",
        "# Create a logger\n",
        "logger = logging.getLogger(\"MyLogger\")\n",
        "logger.setLevel(logging.DEBUG)  # Log all levels DEBUG and above\n",
        "\n",
        "# Create a rotating file handler (1MB max, keep 3 backup files)\n",
        "handler = RotatingFileHandler(\n",
        "    \"app_rotating.log\",\n",
        "    maxBytes=1 * 1024 * 1024,  # 1MB\n",
        "    backupCount=3\n",
        ")\n",
        "\n",
        "# Create a formatter and add it to the handler\n",
        "formatter = logging.Formatter('%(asctime)s - %(levelname)s - %(message)s')\n",
        "handler.setFormatter(formatter)\n",
        "\n",
        "# Add the handler to the logger\n",
        "logger.addHandler(handler)\n",
        "\n",
        "# Example logging messages\n",
        "logger.info(\"This is an info message.\")\n",
        "logger.error(\"This is an error message.\")\n"
      ],
      "metadata": {
        "id": "GOj7f1Ag9rKM"
      },
      "execution_count": null,
      "outputs": []
    },
    {
      "cell_type": "markdown",
      "source": [
        "19- Write a program that handles both IndexError and KeyError using a try-except block"
      ],
      "metadata": {
        "id": "GTFAeW3j9v65"
      }
    },
    {
      "cell_type": "code",
      "source": [
        "my_list = [10, 20, 30]\n",
        "my_dict = {\"name\": \"Alice\", \"age\": 25}\n",
        "\n",
        "try:\n",
        "    # Accessing an invalid list index\n",
        "    print(\"Accessing list index 5:\", my_list[5])\n",
        "\n",
        "    # Accessing a non-existent dictionary key\n",
        "    print(\"Accessing dict key 'address':\", my_dict[\"address\"])\n",
        "\n",
        "except IndexError:\n",
        "    print(\"Error: List index is out of range.\")\n",
        "except KeyError:\n",
        "    print(\"Error: Dictionary key does not exist.\")\n"
      ],
      "metadata": {
        "id": "q1LYNPjh97TR"
      },
      "execution_count": null,
      "outputs": []
    },
    {
      "cell_type": "markdown",
      "source": [
        "20- How would you open a file and read its contents using a context manager in Python?"
      ],
      "metadata": {
        "id": "X_l-DnNX97ir"
      }
    },
    {
      "cell_type": "code",
      "source": [
        "file_path = \"example.txt\"\n",
        "\n",
        "with open(file_path, \"r\") as file:\n",
        "    content = file.read()\n",
        "\n",
        "print(content)\n"
      ],
      "metadata": {
        "id": "HAE2yzPS9-5N"
      },
      "execution_count": null,
      "outputs": []
    },
    {
      "cell_type": "markdown",
      "source": [
        "21- Write a Python program that reads a file and prints the number of occurrences of a specific wordF"
      ],
      "metadata": {
        "id": "tTxH5JKb-BfW"
      }
    },
    {
      "cell_type": "code",
      "source": [
        "file_path = \"example.txt\"\n",
        "word_to_count = \"python\"  # Word you want to count (case-insensitive)\n",
        "\n",
        "try:\n",
        "    with open(file_path, \"r\") as file:\n",
        "        content = file.read().lower()  # Convert to lowercase for case-insensitive matching\n",
        "    count = content.split().count(word_to_count.lower())\n",
        "    print(f\"The word '{word_to_count}' occurs {count} times in the file.\")\n",
        "except FileNotFoundError:\n",
        "    print(f\"Error: The file '{file_path}' was not found.\")\n"
      ],
      "metadata": {
        "id": "DZwIFBmI-I2H"
      },
      "execution_count": null,
      "outputs": []
    },
    {
      "cell_type": "markdown",
      "source": [
        "22-  How can you check if a file is empty before attempting to read its contents?"
      ],
      "metadata": {
        "id": "xbQzoi5_-JF_"
      }
    },
    {
      "cell_type": "code",
      "source": [
        "import os\n",
        "\n",
        "file_path = \"example.txt\"\n",
        "\n",
        "if os.path.exists(file_path):\n",
        "    if os.path.getsize(file_path) > 0:\n",
        "        with open(file_path, \"r\") as file:\n",
        "            content = file.read()\n",
        "            print(content)\n",
        "    else:\n",
        "        print(\"The file is empty.\")\n",
        "else:\n",
        "    print(f\"The file '{file_path}' does not exist.\")\n"
      ],
      "metadata": {
        "id": "GmLSD7hN-Mq_"
      },
      "execution_count": null,
      "outputs": []
    },
    {
      "cell_type": "markdown",
      "source": [
        "23- Write a Python program that writes to a log file when an error occurs during file handling."
      ],
      "metadata": {
        "id": "12ePgM4H-P0N"
      }
    },
    {
      "cell_type": "code",
      "source": [
        "import logging\n",
        "\n",
        "# Configure logging to write to a file named 'file_errors.log'\n",
        "logging.basicConfig(\n",
        "    filename='file_errors.log',\n",
        "    level=logging.ERROR,\n",
        "    format='%(asctime)s - %(levelname)s - %(message)s'\n",
        ")\n",
        "\n",
        "file_path = \"non_existent_file.txt\"\n",
        "\n",
        "try:\n",
        "    with open(file_path, \"r\") as file:\n",
        "        content = file.read()\n",
        "        print(content)\n",
        "except Exception as e:\n",
        "    logging.error(f\"Error occurred while handling the file '{file_path}': {e}\")\n",
        "    print(f\"An error occurred. Check 'file_errors.log' for details.\")\n"
      ],
      "metadata": {
        "id": "wgbb_-8F-Tul"
      },
      "execution_count": null,
      "outputs": []
    }
  ]
}